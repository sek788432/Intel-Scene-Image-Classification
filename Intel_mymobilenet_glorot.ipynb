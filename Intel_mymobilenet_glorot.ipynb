{
 "cells": [
  {
   "cell_type": "markdown",
   "metadata": {},
   "source": [
    "# Install Packages"
   ]
  },
  {
   "cell_type": "code",
   "execution_count": 1,
   "metadata": {
    "id": "cK9fRLvMztIz"
   },
   "outputs": [],
   "source": [
    "import numpy as np\n",
    "import tensorflow as tf\n",
    "from tensorflow import keras\n",
    "from tensorflow.keras.callbacks import EarlyStopping, ReduceLROnPlateau\n",
    "from tensorflow.keras.layers import Dense, Flatten, Activation, GlobalAvgPool2D\n",
    "from tensorflow.keras.optimizers import Adam\n",
    "from tensorflow.keras.metrics import categorical_crossentropy\n",
    "from tensorflow.keras.preprocessing.image import ImageDataGenerator\n",
    "from tensorflow.keras.preprocessing import image\n",
    "from tensorflow.keras.models import Model\n",
    "from tensorflow.keras.applications import imagenet_utils\n",
    "import itertools\n",
    "import shutil\n",
    "import os\n",
    "import random\n",
    "import matplotlib.pyplot as plt\n",
    "%matplotlib inline\n",
    "import glob\n",
    "import datetime\n",
    "from time import time\n",
    "from my_mobilenet import myMobileNetV1"
   ]
  },
  {
   "cell_type": "markdown",
   "metadata": {},
   "source": [
    "# Using GPU"
   ]
  },
  {
   "cell_type": "code",
   "execution_count": 2,
   "metadata": {},
   "outputs": [
    {
     "name": "stdout",
     "output_type": "stream",
     "text": [
      "[PhysicalDevice(name='/physical_device:GPU:0', device_type='GPU')]\n"
     ]
    }
   ],
   "source": [
    "physical_devices = tf.config.experimental.list_physical_devices('GPU')\n",
    "print(physical_devices)\n",
    "tf.config.experimental.set_memory_growth(physical_devices[0], True)"
   ]
  },
  {
   "cell_type": "markdown",
   "metadata": {
    "id": "5D88P1lMbD5B"
   },
   "source": [
    "# Variable"
   ]
  },
  {
   "cell_type": "code",
   "execution_count": 3,
   "metadata": {
    "id": "H5fhv3bwbDl_"
   },
   "outputs": [],
   "source": [
    "TRAIN_PATH = './data/seg_train/seg_train/'\n",
    "VALID_PATH = './data/seg_test/seg_test/'\n",
    "TEST_PATH = './data/seg_pred/'\n",
    "IMAGE_SIZE = (224, 224, 3)\n",
    "BATCH_SIZES = 64\n",
    "EPOCHS = 80\n",
    "switch = \"my_mobilenet\" #test model"
   ]
  },
  {
   "cell_type": "markdown",
   "metadata": {
    "id": "iV6j6ELMdO8H"
   },
   "source": [
    "# Data Preparetion"
   ]
  },
  {
   "cell_type": "code",
   "execution_count": 4,
   "metadata": {
    "colab": {
     "base_uri": "https://localhost:8080/"
    },
    "id": "RSd9zA9tXMSZ",
    "outputId": "4909ea27-7302-4914-b658-55fd12a8f15b"
   },
   "outputs": [
    {
     "name": "stdout",
     "output_type": "stream",
     "text": [
      "Found 14034 images belonging to 6 classes.\n",
      "Found 3000 images belonging to 6 classes.\n",
      "Found 7301 images belonging to 1 classes.\n"
     ]
    }
   ],
   "source": [
    "datagen = ImageDataGenerator()\n",
    "train_batches = datagen.flow_from_directory(directory=TRAIN_PATH, color_mode=\"rgb\",target_size=IMAGE_SIZE[:-1], class_mode=\"categorical\", shuffle=True,batch_size=BATCH_SIZES)\n",
    "valid_batches = datagen.flow_from_directory(directory=VALID_PATH, color_mode=\"rgb\",target_size=IMAGE_SIZE[:-1], class_mode=\"categorical\", shuffle=False,batch_size=BATCH_SIZES)\n",
    "test_batches = datagen.flow_from_directory(directory=TEST_PATH,target_size=IMAGE_SIZE[:-1],color_mode=\"rgb\",batch_size=BATCH_SIZES,class_mode=None,shuffle=False)"
   ]
  },
  {
   "cell_type": "markdown",
   "metadata": {
    "id": "GL1SK7ENdM4a"
   },
   "source": [
    "# Model Construct"
   ]
  },
  {
   "cell_type": "code",
   "execution_count": 5,
   "metadata": {
    "id": "LO34pYEpdN3T"
   },
   "outputs": [
    {
     "name": "stdout",
     "output_type": "stream",
     "text": [
      "Model: \"model\"\n",
      "_________________________________________________________________\n",
      "Layer (type)                 Output Shape              Param #   \n",
      "=================================================================\n",
      "input_1 (InputLayer)         [(None, 224, 224, 3)]     0         \n",
      "_________________________________________________________________\n",
      "conv2d (Conv2D)              (None, 112, 112, 32)      896       \n",
      "_________________________________________________________________\n",
      "batch_normalization (BatchNo (None, 112, 112, 32)      128       \n",
      "_________________________________________________________________\n",
      "activation (Activation)      (None, 112, 112, 32)      0         \n",
      "_________________________________________________________________\n",
      "depthwise_conv2d (DepthwiseC (None, 112, 112, 32)      320       \n",
      "_________________________________________________________________\n",
      "batch_normalization_1 (Batch (None, 112, 112, 32)      128       \n",
      "_________________________________________________________________\n",
      "activation_1 (Activation)    (None, 112, 112, 32)      0         \n",
      "_________________________________________________________________\n",
      "conv2d_1 (Conv2D)            (None, 112, 112, 64)      2112      \n",
      "_________________________________________________________________\n",
      "batch_normalization_2 (Batch (None, 112, 112, 64)      256       \n",
      "_________________________________________________________________\n",
      "activation_2 (Activation)    (None, 112, 112, 64)      0         \n",
      "_________________________________________________________________\n",
      "depthwise_conv2d_1 (Depthwis (None, 56, 56, 64)        640       \n",
      "_________________________________________________________________\n",
      "batch_normalization_3 (Batch (None, 56, 56, 64)        256       \n",
      "_________________________________________________________________\n",
      "activation_3 (Activation)    (None, 56, 56, 64)        0         \n",
      "_________________________________________________________________\n",
      "conv2d_2 (Conv2D)            (None, 56, 56, 128)       8320      \n",
      "_________________________________________________________________\n",
      "batch_normalization_4 (Batch (None, 56, 56, 128)       512       \n",
      "_________________________________________________________________\n",
      "activation_4 (Activation)    (None, 56, 56, 128)       0         \n",
      "_________________________________________________________________\n",
      "depthwise_conv2d_2 (Depthwis (None, 56, 56, 128)       1280      \n",
      "_________________________________________________________________\n",
      "batch_normalization_5 (Batch (None, 56, 56, 128)       512       \n",
      "_________________________________________________________________\n",
      "activation_5 (Activation)    (None, 56, 56, 128)       0         \n",
      "_________________________________________________________________\n",
      "conv2d_3 (Conv2D)            (None, 56, 56, 128)       16512     \n",
      "_________________________________________________________________\n",
      "batch_normalization_6 (Batch (None, 56, 56, 128)       512       \n",
      "_________________________________________________________________\n",
      "activation_6 (Activation)    (None, 56, 56, 128)       0         \n",
      "_________________________________________________________________\n",
      "depthwise_conv2d_3 (Depthwis (None, 28, 28, 128)       1280      \n",
      "_________________________________________________________________\n",
      "batch_normalization_7 (Batch (None, 28, 28, 128)       512       \n",
      "_________________________________________________________________\n",
      "activation_7 (Activation)    (None, 28, 28, 128)       0         \n",
      "_________________________________________________________________\n",
      "conv2d_4 (Conv2D)            (None, 28, 28, 256)       33024     \n",
      "_________________________________________________________________\n",
      "batch_normalization_8 (Batch (None, 28, 28, 256)       1024      \n",
      "_________________________________________________________________\n",
      "activation_8 (Activation)    (None, 28, 28, 256)       0         \n",
      "_________________________________________________________________\n",
      "depthwise_conv2d_4 (Depthwis (None, 28, 28, 256)       2560      \n",
      "_________________________________________________________________\n",
      "batch_normalization_9 (Batch (None, 28, 28, 256)       1024      \n",
      "_________________________________________________________________\n",
      "activation_9 (Activation)    (None, 28, 28, 256)       0         \n",
      "_________________________________________________________________\n",
      "conv2d_5 (Conv2D)            (None, 28, 28, 256)       65792     \n",
      "_________________________________________________________________\n",
      "batch_normalization_10 (Batc (None, 28, 28, 256)       1024      \n",
      "_________________________________________________________________\n",
      "activation_10 (Activation)   (None, 28, 28, 256)       0         \n",
      "_________________________________________________________________\n",
      "depthwise_conv2d_5 (Depthwis (None, 14, 14, 256)       2560      \n",
      "_________________________________________________________________\n",
      "batch_normalization_11 (Batc (None, 14, 14, 256)       1024      \n",
      "_________________________________________________________________\n",
      "activation_11 (Activation)   (None, 14, 14, 256)       0         \n",
      "_________________________________________________________________\n",
      "conv2d_6 (Conv2D)            (None, 14, 14, 512)       131584    \n",
      "_________________________________________________________________\n",
      "batch_normalization_12 (Batc (None, 14, 14, 512)       2048      \n",
      "_________________________________________________________________\n",
      "activation_12 (Activation)   (None, 14, 14, 512)       0         \n",
      "_________________________________________________________________\n",
      "depthwise_conv2d_6 (Depthwis (None, 14, 14, 512)       5120      \n",
      "_________________________________________________________________\n",
      "batch_normalization_13 (Batc (None, 14, 14, 512)       2048      \n",
      "_________________________________________________________________\n",
      "activation_13 (Activation)   (None, 14, 14, 512)       0         \n",
      "_________________________________________________________________\n",
      "conv2d_7 (Conv2D)            (None, 14, 14, 512)       262656    \n",
      "_________________________________________________________________\n",
      "batch_normalization_14 (Batc (None, 14, 14, 512)       2048      \n",
      "_________________________________________________________________\n",
      "activation_14 (Activation)   (None, 14, 14, 512)       0         \n",
      "_________________________________________________________________\n",
      "depthwise_conv2d_7 (Depthwis (None, 14, 14, 512)       5120      \n",
      "_________________________________________________________________\n",
      "batch_normalization_15 (Batc (None, 14, 14, 512)       2048      \n",
      "_________________________________________________________________\n",
      "activation_15 (Activation)   (None, 14, 14, 512)       0         \n",
      "_________________________________________________________________\n",
      "conv2d_8 (Conv2D)            (None, 14, 14, 512)       262656    \n",
      "_________________________________________________________________\n",
      "batch_normalization_16 (Batc (None, 14, 14, 512)       2048      \n",
      "_________________________________________________________________\n",
      "activation_16 (Activation)   (None, 14, 14, 512)       0         \n",
      "_________________________________________________________________\n",
      "depthwise_conv2d_8 (Depthwis (None, 14, 14, 512)       5120      \n",
      "_________________________________________________________________\n",
      "batch_normalization_17 (Batc (None, 14, 14, 512)       2048      \n",
      "_________________________________________________________________\n",
      "activation_17 (Activation)   (None, 14, 14, 512)       0         \n",
      "_________________________________________________________________\n",
      "conv2d_9 (Conv2D)            (None, 14, 14, 512)       262656    \n",
      "_________________________________________________________________\n",
      "batch_normalization_18 (Batc (None, 14, 14, 512)       2048      \n",
      "_________________________________________________________________\n",
      "activation_18 (Activation)   (None, 14, 14, 512)       0         \n",
      "_________________________________________________________________\n",
      "depthwise_conv2d_9 (Depthwis (None, 14, 14, 512)       5120      \n",
      "_________________________________________________________________\n",
      "batch_normalization_19 (Batc (None, 14, 14, 512)       2048      \n",
      "_________________________________________________________________\n",
      "activation_19 (Activation)   (None, 14, 14, 512)       0         \n",
      "_________________________________________________________________\n",
      "conv2d_10 (Conv2D)           (None, 14, 14, 512)       262656    \n",
      "_________________________________________________________________\n",
      "batch_normalization_20 (Batc (None, 14, 14, 512)       2048      \n",
      "_________________________________________________________________\n",
      "activation_20 (Activation)   (None, 14, 14, 512)       0         \n",
      "_________________________________________________________________\n",
      "depthwise_conv2d_10 (Depthwi (None, 14, 14, 512)       5120      \n",
      "_________________________________________________________________\n",
      "batch_normalization_21 (Batc (None, 14, 14, 512)       2048      \n",
      "_________________________________________________________________\n",
      "activation_21 (Activation)   (None, 14, 14, 512)       0         \n",
      "_________________________________________________________________\n",
      "conv2d_11 (Conv2D)           (None, 14, 14, 512)       262656    \n",
      "_________________________________________________________________\n",
      "batch_normalization_22 (Batc (None, 14, 14, 512)       2048      \n",
      "_________________________________________________________________\n",
      "activation_22 (Activation)   (None, 14, 14, 512)       0         \n",
      "_________________________________________________________________\n",
      "depthwise_conv2d_11 (Depthwi (None, 7, 7, 512)         5120      \n",
      "_________________________________________________________________\n",
      "batch_normalization_23 (Batc (None, 7, 7, 512)         2048      \n",
      "_________________________________________________________________\n",
      "activation_23 (Activation)   (None, 7, 7, 512)         0         \n",
      "_________________________________________________________________\n",
      "conv2d_12 (Conv2D)           (None, 7, 7, 1024)        525312    \n",
      "_________________________________________________________________\n",
      "batch_normalization_24 (Batc (None, 7, 7, 1024)        4096      \n",
      "_________________________________________________________________\n",
      "activation_24 (Activation)   (None, 7, 7, 1024)        0         \n",
      "_________________________________________________________________\n",
      "depthwise_conv2d_12 (Depthwi (None, 7, 7, 1024)        10240     \n",
      "_________________________________________________________________\n",
      "batch_normalization_25 (Batc (None, 7, 7, 1024)        4096      \n",
      "_________________________________________________________________\n",
      "activation_25 (Activation)   (None, 7, 7, 1024)        0         \n",
      "_________________________________________________________________\n",
      "conv2d_13 (Conv2D)           (None, 7, 7, 1024)        1049600   \n",
      "_________________________________________________________________\n",
      "batch_normalization_26 (Batc (None, 7, 7, 1024)        4096      \n",
      "_________________________________________________________________\n",
      "activation_26 (Activation)   (None, 7, 7, 1024)        0         \n",
      "_________________________________________________________________\n",
      "global_avg (GlobalAveragePoo (None, 1024)              0         \n",
      "_________________________________________________________________\n",
      "softmax (Dense)              (None, 6)                 6150      \n",
      "=================================================================\n",
      "Total params: 3,245,958\n",
      "Trainable params: 3,224,070\n",
      "Non-trainable params: 21,888\n",
      "_________________________________________________________________\n"
     ]
    }
   ],
   "source": [
    "if switch == \"my_mobilenet\":\n",
    "    model = myMobileNetV1(input_shape = IMAGE_SIZE, num_classes = 6 ) \n",
    "else:\n",
    "    if switch == \"mobilenet\":\n",
    "        md = keras.applications.MobileNet(input_shape = IMAGE_SIZE, weights=None)\n",
    "    elif switch == \"mobilenetv2\":\n",
    "        md = keras.applications.MobileNetV2(input_shape = IMAGE_SIZE, weights=None)\n",
    "    elif switch == \"ResNet50\":\n",
    "        md = keras.applications.ResNet50(input_shape = IMAGE_SIZE, weights=None)\n",
    "    x = Flatten()(md.output)\n",
    "    prediction = Dense(6, activation='softmax')(x)\n",
    "    model = Model(inputs=md.input, outputs=prediction)\n",
    "model.summary()"
   ]
  },
  {
   "cell_type": "code",
   "execution_count": 6,
   "metadata": {
    "colab": {
     "base_uri": "https://localhost:8080/"
    },
    "id": "_N1DZBaPddvS",
    "outputId": "10ab20b5-d857-4f6c-c8ed-3bda15fc8fbd"
   },
   "outputs": [
    {
     "name": "stdout",
     "output_type": "stream",
     "text": [
      "Epoch 1/80\n",
      "220/220 [==============================] - 62s 229ms/step - loss: 1.1983 - accuracy: 0.5214 - val_loss: 4.5750 - val_accuracy: 0.1843: 1.3693 - accura - ETA: 20s - loss: 1.3476 - a -\n",
      "Epoch 2/80\n",
      "220/220 [==============================] - 49s 223ms/step - loss: 0.6619 - accuracy: 0.7550 - val_loss: 4.3249 - val_accuracy: 0.1750\n",
      "Epoch 3/80\n",
      "220/220 [==============================] - 50s 225ms/step - loss: 0.5207 - accuracy: 0.8120 - val_loss: 2.0833 - val_accuracy: 0.3910\n",
      "Epoch 4/80\n",
      "220/220 [==============================] - 50s 228ms/step - loss: 0.4584 - accuracy: 0.8368 - val_loss: 0.8729 - val_accuracy: 0.7323\n",
      "Epoch 5/80\n",
      "220/220 [==============================] - 50s 225ms/step - loss: 0.3943 - accuracy: 0.8574 - val_loss: 0.7176 - val_accuracy: 0.7690\n",
      "Epoch 6/80\n",
      "220/220 [==============================] - 50s 227ms/step - loss: 0.3475 - accuracy: 0.8777 - val_loss: 0.7068 - val_accuracy: 0.7780\n",
      "Epoch 7/80\n",
      "220/220 [==============================] - 50s 228ms/step - loss: 0.3093 - accuracy: 0.8893 - val_loss: 0.8893 - val_accuracy: 0.7250\n",
      "Epoch 8/80\n",
      "220/220 [==============================] - 50s 225ms/step - loss: 0.2888 - accuracy: 0.8971 - val_loss: 1.2251 - val_accuracy: 0.6903\n",
      "Epoch 9/80\n",
      "220/220 [==============================] - 50s 226ms/step - loss: 0.2769 - accuracy: 0.9001 - val_loss: 0.8216 - val_accuracy: 0.7550\n",
      "Epoch 10/80\n",
      "220/220 [==============================] - 50s 226ms/step - loss: 0.2270 - accuracy: 0.9174 - val_loss: 0.8065 - val_accuracy: 0.7800\n",
      "\n",
      "Epoch 00010: ReduceLROnPlateau reducing learning rate to 0.00010000000474974513.\n",
      "Epoch 11/80\n",
      "220/220 [==============================] - 50s 227ms/step - loss: 0.1716 - accuracy: 0.9411 - val_loss: 0.4002 - val_accuracy: 0.8683\n",
      "Epoch 12/80\n",
      "220/220 [==============================] - 51s 229ms/step - loss: 0.0914 - accuracy: 0.9741 - val_loss: 0.4029 - val_accuracy: 0.8683\n",
      "Epoch 13/80\n",
      "220/220 [==============================] - 50s 226ms/step - loss: 0.0658 - accuracy: 0.9838 - val_loss: 0.4322 - val_accuracy: 0.8643\n",
      "Epoch 14/80\n",
      "220/220 [==============================] - 50s 227ms/step - loss: 0.0455 - accuracy: 0.9895 - val_loss: 0.4477 - val_accuracy: 0.8613\n",
      "Epoch 15/80\n",
      "220/220 [==============================] - 50s 226ms/step - loss: 0.0303 - accuracy: 0.9945 - val_loss: 0.4595 - val_accuracy: 0.8700\n",
      "\n",
      "Epoch 00015: ReduceLROnPlateau reducing learning rate to 1.0000000474974514e-05.\n",
      "Epoch 16/80\n",
      "220/220 [==============================] - 50s 225ms/step - loss: 0.0219 - accuracy: 0.9970 - val_loss: 0.4711 - val_accuracy: 0.8677\n",
      "Epoch 17/80\n",
      "220/220 [==============================] - 50s 226ms/step - loss: 0.0218 - accuracy: 0.9969 - val_loss: 0.4745 - val_accuracy: 0.8673\n",
      "Epoch 18/80\n",
      "220/220 [==============================] - 50s 226ms/step - loss: 0.0198 - accuracy: 0.9967 - val_loss: 0.4783 - val_accuracy: 0.8657\n",
      "Epoch 19/80\n",
      "220/220 [==============================] - 50s 226ms/step - loss: 0.0175 - accuracy: 0.9977 - val_loss: 0.4816 - val_accuracy: 0.8687\n",
      "\n",
      "Epoch 00019: ReduceLROnPlateau reducing learning rate to 1.0000000656873453e-06.\n",
      "Epoch 20/80\n",
      "220/220 [==============================] - 50s 226ms/step - loss: 0.0175 - accuracy: 0.9980 - val_loss: 0.4814 - val_accuracy: 0.8677\n",
      "Epoch 21/80\n",
      "220/220 [==============================] - 50s 226ms/step - loss: 0.0153 - accuracy: 0.9979 - val_loss: 0.4816 - val_accuracy: 0.8680\n",
      "Epoch 22/80\n",
      "220/220 [==============================] - 50s 227ms/step - loss: 0.0188 - accuracy: 0.9970 - val_loss: 0.4824 - val_accuracy: 0.8670\n",
      "Epoch 23/80\n",
      "220/220 [==============================] - 50s 227ms/step - loss: 0.0161 - accuracy: 0.9985 - val_loss: 0.4823 - val_accuracy: 0.8667\n",
      "\n",
      "Epoch 00023: ReduceLROnPlateau reducing learning rate to 1e-06.\n",
      "Epoch 24/80\n",
      "220/220 [==============================] - 50s 227ms/step - loss: 0.0153 - accuracy: 0.9985 - val_loss: 0.4827 - val_accuracy: 0.8673\n",
      "Epoch 25/80\n",
      "220/220 [==============================] - 50s 229ms/step - loss: 0.0155 - accuracy: 0.9986 - val_loss: 0.4828 - val_accuracy: 0.8680\n",
      "execution time:  1259.4930927753448\n"
     ]
    }
   ],
   "source": [
    "optimizer = Adam(learning_rate = 1e-3)\n",
    "model.compile(\n",
    "    loss='categorical_crossentropy',\n",
    "    optimizer= optimizer,\n",
    "    metrics=['accuracy']\n",
    ")\n",
    "stop_callback = EarlyStopping(monitor='val_accuracy', patience=10, restore_best_weights=True)\n",
    "reduce_lr = ReduceLROnPlateau(monitor='val_loss',factor=0.1,patience = 4, verbose=1, min_lr = 1e-6)\n",
    "t1 = time()\n",
    "history = model.fit(train_batches, validation_data = valid_batches, epochs= EPOCHS, steps_per_epoch=len(train_batches), validation_steps=len(valid_batches), callbacks = [stop_callback,reduce_lr])\n",
    "t2 = time()\n",
    "print(\"execution time: \", t2 - t1)"
   ]
  },
  {
   "cell_type": "code",
   "execution_count": 7,
   "metadata": {},
   "outputs": [
    {
     "name": "stdout",
     "output_type": "stream",
     "text": [
      "47/47 [==============================] - 3s 63ms/step - loss: 0.4595 - accuracy: 0.8700\n",
      "Test Data Accuracy =  0.8700000047683716\n"
     ]
    }
   ],
   "source": [
    "scoreSeg = model.evaluate(valid_batches)\n",
    "print(\"Test Data Accuracy = \",scoreSeg[1])"
   ]
  },
  {
   "cell_type": "markdown",
   "metadata": {},
   "source": [
    "# Result"
   ]
  },
  {
   "cell_type": "code",
   "execution_count": 9,
   "metadata": {},
   "outputs": [
    {
     "name": "stdout",
     "output_type": "stream",
     "text": [
      "47/47 [==============================] - 3s 63ms/step\n",
      "              precision    recall  f1-score   support\n",
      "\n",
      "   buildings       0.88      0.84      0.86       437\n",
      "      forest       0.96      0.97      0.96       474\n",
      "     glacier       0.83      0.79      0.81       553\n",
      "    mountain       0.83      0.83      0.83       525\n",
      "         sea       0.85      0.90      0.87       510\n",
      "      street       0.89      0.90      0.89       501\n",
      "\n",
      "    accuracy                           0.87      3000\n",
      "   macro avg       0.87      0.87      0.87      3000\n",
      "weighted avg       0.87      0.87      0.87      3000\n",
      "\n"
     ]
    }
   ],
   "source": [
    "from sklearn.metrics import classification_report\n",
    "test_labels = valid_batches.classes \n",
    "predictions = model.predict(valid_batches, verbose=1)\n",
    "y_pred = np.argmax(predictions, axis=-1)\n",
    "print(classification_report(test_labels, y_pred, target_names = valid_batches.class_indices))"
   ]
  },
  {
   "cell_type": "code",
   "execution_count": 10,
   "metadata": {},
   "outputs": [
    {
     "name": "stdout",
     "output_type": "stream",
     "text": [
      "2.4.0\n",
      "2.4.0\n"
     ]
    }
   ],
   "source": [
    "print(tf.__version__)\n",
    "print(tf.keras.__version__)\n",
    "#print(scipy.__version__)"
   ]
  }
 ],
 "metadata": {
  "accelerator": "GPU",
  "colab": {
   "collapsed_sections": [],
   "name": "practice_mobilenet_2",
   "provenance": []
  },
  "kernelspec": {
   "display_name": "Python 3",
   "language": "python",
   "name": "python3"
  },
  "language_info": {
   "codemirror_mode": {
    "name": "ipython",
    "version": 3
   },
   "file_extension": ".py",
   "mimetype": "text/x-python",
   "name": "python",
   "nbconvert_exporter": "python",
   "pygments_lexer": "ipython3",
   "version": "3.6.9"
  }
 },
 "nbformat": 4,
 "nbformat_minor": 1
}
