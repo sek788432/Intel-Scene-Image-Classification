{
 "cells": [
  {
   "cell_type": "markdown",
   "metadata": {},
   "source": [
    "# Install Packages"
   ]
  },
  {
   "cell_type": "code",
   "execution_count": 1,
   "metadata": {
    "id": "cK9fRLvMztIz"
   },
   "outputs": [],
   "source": [
    "import numpy as np\n",
    "import tensorflow as tf\n",
    "from tensorflow import keras\n",
    "from tensorflow.keras.callbacks import EarlyStopping, ReduceLROnPlateau\n",
    "from tensorflow.keras.layers import Dense, Flatten, Activation, GlobalAvgPool2D\n",
    "from tensorflow.keras.optimizers import Adam\n",
    "from tensorflow.keras.metrics import categorical_crossentropy\n",
    "from tensorflow.keras.preprocessing.image import ImageDataGenerator\n",
    "from tensorflow.keras.preprocessing import image\n",
    "from tensorflow.keras.models import Model\n",
    "from tensorflow.keras.applications import imagenet_utils\n",
    "import itertools\n",
    "import shutil\n",
    "import os\n",
    "import random\n",
    "import matplotlib.pyplot as plt\n",
    "%matplotlib inline\n",
    "import glob\n",
    "import datetime\n",
    "from time import time"
   ]
  },
  {
   "cell_type": "markdown",
   "metadata": {},
   "source": [
    "# Using GPU"
   ]
  },
  {
   "cell_type": "code",
   "execution_count": 2,
   "metadata": {},
   "outputs": [
    {
     "name": "stdout",
     "output_type": "stream",
     "text": [
      "[PhysicalDevice(name='/physical_device:GPU:0', device_type='GPU')]\n"
     ]
    }
   ],
   "source": [
    "physical_devices = tf.config.experimental.list_physical_devices('GPU')\n",
    "print(physical_devices)\n",
    "tf.config.experimental.set_memory_growth(physical_devices[0], True)"
   ]
  },
  {
   "cell_type": "markdown",
   "metadata": {
    "id": "5D88P1lMbD5B"
   },
   "source": [
    "# Variable"
   ]
  },
  {
   "cell_type": "code",
   "execution_count": 3,
   "metadata": {
    "id": "H5fhv3bwbDl_"
   },
   "outputs": [],
   "source": [
    "TRAIN_PATH = './data/seg_train/seg_train/'\n",
    "VALID_PATH = './data/seg_test/seg_test/'\n",
    "TEST_PATH = './data/seg_pred/'\n",
    "IMAGE_SIZE = (224, 224, 3)\n",
    "BATCH_SIZES = 64\n",
    "EPOCHS = 80\n",
    "switch = \"mobilenet\" #test model"
   ]
  },
  {
   "cell_type": "markdown",
   "metadata": {
    "id": "iV6j6ELMdO8H"
   },
   "source": [
    "# Data Preparetion"
   ]
  },
  {
   "cell_type": "code",
   "execution_count": 4,
   "metadata": {
    "colab": {
     "base_uri": "https://localhost:8080/"
    },
    "id": "RSd9zA9tXMSZ",
    "outputId": "4909ea27-7302-4914-b658-55fd12a8f15b"
   },
   "outputs": [
    {
     "name": "stdout",
     "output_type": "stream",
     "text": [
      "Found 14034 images belonging to 6 classes.\n",
      "Found 3000 images belonging to 6 classes.\n",
      "Found 7301 images belonging to 1 classes.\n"
     ]
    }
   ],
   "source": [
    "datagen = ImageDataGenerator()\n",
    "train_batches = datagen.flow_from_directory(directory=TRAIN_PATH, color_mode=\"rgb\",target_size=IMAGE_SIZE[:-1], class_mode=\"categorical\", shuffle=True,batch_size=BATCH_SIZES)\n",
    "valid_batches = datagen.flow_from_directory(directory=VALID_PATH, color_mode=\"rgb\",target_size=IMAGE_SIZE[:-1], class_mode=\"categorical\", shuffle=False,batch_size=BATCH_SIZES)\n",
    "test_batches = datagen.flow_from_directory(directory=TEST_PATH,target_size=IMAGE_SIZE[:-1],color_mode=\"rgb\",batch_size=BATCH_SIZES,class_mode=None,shuffle=False)"
   ]
  },
  {
   "cell_type": "markdown",
   "metadata": {
    "id": "GL1SK7ENdM4a"
   },
   "source": [
    "# Model Construct"
   ]
  },
  {
   "cell_type": "code",
   "execution_count": 5,
   "metadata": {
    "id": "LO34pYEpdN3T"
   },
   "outputs": [
    {
     "name": "stdout",
     "output_type": "stream",
     "text": [
      "Model: \"model\"\n",
      "_________________________________________________________________\n",
      "Layer (type)                 Output Shape              Param #   \n",
      "=================================================================\n",
      "input_1 (InputLayer)         [(None, 224, 224, 3)]     0         \n",
      "_________________________________________________________________\n",
      "conv1 (Conv2D)               (None, 112, 112, 32)      864       \n",
      "_________________________________________________________________\n",
      "conv1_bn (BatchNormalization (None, 112, 112, 32)      128       \n",
      "_________________________________________________________________\n",
      "conv1_relu (ReLU)            (None, 112, 112, 32)      0         \n",
      "_________________________________________________________________\n",
      "conv_dw_1 (DepthwiseConv2D)  (None, 112, 112, 32)      288       \n",
      "_________________________________________________________________\n",
      "conv_dw_1_bn (BatchNormaliza (None, 112, 112, 32)      128       \n",
      "_________________________________________________________________\n",
      "conv_dw_1_relu (ReLU)        (None, 112, 112, 32)      0         \n",
      "_________________________________________________________________\n",
      "conv_pw_1 (Conv2D)           (None, 112, 112, 64)      2048      \n",
      "_________________________________________________________________\n",
      "conv_pw_1_bn (BatchNormaliza (None, 112, 112, 64)      256       \n",
      "_________________________________________________________________\n",
      "conv_pw_1_relu (ReLU)        (None, 112, 112, 64)      0         \n",
      "_________________________________________________________________\n",
      "conv_pad_2 (ZeroPadding2D)   (None, 113, 113, 64)      0         \n",
      "_________________________________________________________________\n",
      "conv_dw_2 (DepthwiseConv2D)  (None, 56, 56, 64)        576       \n",
      "_________________________________________________________________\n",
      "conv_dw_2_bn (BatchNormaliza (None, 56, 56, 64)        256       \n",
      "_________________________________________________________________\n",
      "conv_dw_2_relu (ReLU)        (None, 56, 56, 64)        0         \n",
      "_________________________________________________________________\n",
      "conv_pw_2 (Conv2D)           (None, 56, 56, 128)       8192      \n",
      "_________________________________________________________________\n",
      "conv_pw_2_bn (BatchNormaliza (None, 56, 56, 128)       512       \n",
      "_________________________________________________________________\n",
      "conv_pw_2_relu (ReLU)        (None, 56, 56, 128)       0         \n",
      "_________________________________________________________________\n",
      "conv_dw_3 (DepthwiseConv2D)  (None, 56, 56, 128)       1152      \n",
      "_________________________________________________________________\n",
      "conv_dw_3_bn (BatchNormaliza (None, 56, 56, 128)       512       \n",
      "_________________________________________________________________\n",
      "conv_dw_3_relu (ReLU)        (None, 56, 56, 128)       0         \n",
      "_________________________________________________________________\n",
      "conv_pw_3 (Conv2D)           (None, 56, 56, 128)       16384     \n",
      "_________________________________________________________________\n",
      "conv_pw_3_bn (BatchNormaliza (None, 56, 56, 128)       512       \n",
      "_________________________________________________________________\n",
      "conv_pw_3_relu (ReLU)        (None, 56, 56, 128)       0         \n",
      "_________________________________________________________________\n",
      "conv_pad_4 (ZeroPadding2D)   (None, 57, 57, 128)       0         \n",
      "_________________________________________________________________\n",
      "conv_dw_4 (DepthwiseConv2D)  (None, 28, 28, 128)       1152      \n",
      "_________________________________________________________________\n",
      "conv_dw_4_bn (BatchNormaliza (None, 28, 28, 128)       512       \n",
      "_________________________________________________________________\n",
      "conv_dw_4_relu (ReLU)        (None, 28, 28, 128)       0         \n",
      "_________________________________________________________________\n",
      "conv_pw_4 (Conv2D)           (None, 28, 28, 256)       32768     \n",
      "_________________________________________________________________\n",
      "conv_pw_4_bn (BatchNormaliza (None, 28, 28, 256)       1024      \n",
      "_________________________________________________________________\n",
      "conv_pw_4_relu (ReLU)        (None, 28, 28, 256)       0         \n",
      "_________________________________________________________________\n",
      "conv_dw_5 (DepthwiseConv2D)  (None, 28, 28, 256)       2304      \n",
      "_________________________________________________________________\n",
      "conv_dw_5_bn (BatchNormaliza (None, 28, 28, 256)       1024      \n",
      "_________________________________________________________________\n",
      "conv_dw_5_relu (ReLU)        (None, 28, 28, 256)       0         \n",
      "_________________________________________________________________\n",
      "conv_pw_5 (Conv2D)           (None, 28, 28, 256)       65536     \n",
      "_________________________________________________________________\n",
      "conv_pw_5_bn (BatchNormaliza (None, 28, 28, 256)       1024      \n",
      "_________________________________________________________________\n",
      "conv_pw_5_relu (ReLU)        (None, 28, 28, 256)       0         \n",
      "_________________________________________________________________\n",
      "conv_pad_6 (ZeroPadding2D)   (None, 29, 29, 256)       0         \n",
      "_________________________________________________________________\n",
      "conv_dw_6 (DepthwiseConv2D)  (None, 14, 14, 256)       2304      \n",
      "_________________________________________________________________\n",
      "conv_dw_6_bn (BatchNormaliza (None, 14, 14, 256)       1024      \n",
      "_________________________________________________________________\n",
      "conv_dw_6_relu (ReLU)        (None, 14, 14, 256)       0         \n",
      "_________________________________________________________________\n",
      "conv_pw_6 (Conv2D)           (None, 14, 14, 512)       131072    \n",
      "_________________________________________________________________\n",
      "conv_pw_6_bn (BatchNormaliza (None, 14, 14, 512)       2048      \n",
      "_________________________________________________________________\n",
      "conv_pw_6_relu (ReLU)        (None, 14, 14, 512)       0         \n",
      "_________________________________________________________________\n",
      "conv_dw_7 (DepthwiseConv2D)  (None, 14, 14, 512)       4608      \n",
      "_________________________________________________________________\n",
      "conv_dw_7_bn (BatchNormaliza (None, 14, 14, 512)       2048      \n",
      "_________________________________________________________________\n",
      "conv_dw_7_relu (ReLU)        (None, 14, 14, 512)       0         \n",
      "_________________________________________________________________\n",
      "conv_pw_7 (Conv2D)           (None, 14, 14, 512)       262144    \n",
      "_________________________________________________________________\n",
      "conv_pw_7_bn (BatchNormaliza (None, 14, 14, 512)       2048      \n",
      "_________________________________________________________________\n",
      "conv_pw_7_relu (ReLU)        (None, 14, 14, 512)       0         \n",
      "_________________________________________________________________\n",
      "conv_dw_8 (DepthwiseConv2D)  (None, 14, 14, 512)       4608      \n",
      "_________________________________________________________________\n",
      "conv_dw_8_bn (BatchNormaliza (None, 14, 14, 512)       2048      \n",
      "_________________________________________________________________\n",
      "conv_dw_8_relu (ReLU)        (None, 14, 14, 512)       0         \n",
      "_________________________________________________________________\n",
      "conv_pw_8 (Conv2D)           (None, 14, 14, 512)       262144    \n",
      "_________________________________________________________________\n",
      "conv_pw_8_bn (BatchNormaliza (None, 14, 14, 512)       2048      \n",
      "_________________________________________________________________\n",
      "conv_pw_8_relu (ReLU)        (None, 14, 14, 512)       0         \n",
      "_________________________________________________________________\n",
      "conv_dw_9 (DepthwiseConv2D)  (None, 14, 14, 512)       4608      \n",
      "_________________________________________________________________\n",
      "conv_dw_9_bn (BatchNormaliza (None, 14, 14, 512)       2048      \n",
      "_________________________________________________________________\n",
      "conv_dw_9_relu (ReLU)        (None, 14, 14, 512)       0         \n",
      "_________________________________________________________________\n",
      "conv_pw_9 (Conv2D)           (None, 14, 14, 512)       262144    \n",
      "_________________________________________________________________\n",
      "conv_pw_9_bn (BatchNormaliza (None, 14, 14, 512)       2048      \n",
      "_________________________________________________________________\n",
      "conv_pw_9_relu (ReLU)        (None, 14, 14, 512)       0         \n",
      "_________________________________________________________________\n",
      "conv_dw_10 (DepthwiseConv2D) (None, 14, 14, 512)       4608      \n",
      "_________________________________________________________________\n",
      "conv_dw_10_bn (BatchNormaliz (None, 14, 14, 512)       2048      \n",
      "_________________________________________________________________\n",
      "conv_dw_10_relu (ReLU)       (None, 14, 14, 512)       0         \n",
      "_________________________________________________________________\n",
      "conv_pw_10 (Conv2D)          (None, 14, 14, 512)       262144    \n",
      "_________________________________________________________________\n",
      "conv_pw_10_bn (BatchNormaliz (None, 14, 14, 512)       2048      \n",
      "_________________________________________________________________\n",
      "conv_pw_10_relu (ReLU)       (None, 14, 14, 512)       0         \n",
      "_________________________________________________________________\n",
      "conv_dw_11 (DepthwiseConv2D) (None, 14, 14, 512)       4608      \n",
      "_________________________________________________________________\n",
      "conv_dw_11_bn (BatchNormaliz (None, 14, 14, 512)       2048      \n",
      "_________________________________________________________________\n",
      "conv_dw_11_relu (ReLU)       (None, 14, 14, 512)       0         \n",
      "_________________________________________________________________\n",
      "conv_pw_11 (Conv2D)          (None, 14, 14, 512)       262144    \n",
      "_________________________________________________________________\n",
      "conv_pw_11_bn (BatchNormaliz (None, 14, 14, 512)       2048      \n",
      "_________________________________________________________________\n",
      "conv_pw_11_relu (ReLU)       (None, 14, 14, 512)       0         \n",
      "_________________________________________________________________\n",
      "conv_pad_12 (ZeroPadding2D)  (None, 15, 15, 512)       0         \n",
      "_________________________________________________________________\n",
      "conv_dw_12 (DepthwiseConv2D) (None, 7, 7, 512)         4608      \n",
      "_________________________________________________________________\n",
      "conv_dw_12_bn (BatchNormaliz (None, 7, 7, 512)         2048      \n",
      "_________________________________________________________________\n",
      "conv_dw_12_relu (ReLU)       (None, 7, 7, 512)         0         \n",
      "_________________________________________________________________\n",
      "conv_pw_12 (Conv2D)          (None, 7, 7, 1024)        524288    \n",
      "_________________________________________________________________\n",
      "conv_pw_12_bn (BatchNormaliz (None, 7, 7, 1024)        4096      \n",
      "_________________________________________________________________\n",
      "conv_pw_12_relu (ReLU)       (None, 7, 7, 1024)        0         \n",
      "_________________________________________________________________\n",
      "conv_dw_13 (DepthwiseConv2D) (None, 7, 7, 1024)        9216      \n",
      "_________________________________________________________________\n",
      "conv_dw_13_bn (BatchNormaliz (None, 7, 7, 1024)        4096      \n",
      "_________________________________________________________________\n",
      "conv_dw_13_relu (ReLU)       (None, 7, 7, 1024)        0         \n",
      "_________________________________________________________________\n",
      "conv_pw_13 (Conv2D)          (None, 7, 7, 1024)        1048576   \n",
      "_________________________________________________________________\n",
      "conv_pw_13_bn (BatchNormaliz (None, 7, 7, 1024)        4096      \n",
      "_________________________________________________________________\n",
      "conv_pw_13_relu (ReLU)       (None, 7, 7, 1024)        0         \n",
      "_________________________________________________________________\n",
      "global_avg (GlobalAveragePoo (None, 1024)              0         \n",
      "_________________________________________________________________\n",
      "dense (Dense)                (None, 6)                 6150      \n",
      "=================================================================\n",
      "Total params: 3,235,014\n",
      "Trainable params: 3,213,126\n",
      "Non-trainable params: 21,888\n",
      "_________________________________________________________________\n"
     ]
    }
   ],
   "source": [
    "if switch == \"my_mobilenet\":\n",
    "    model = myMobileNetV1(input_shape = IMAGE_SIZE, num_classes = 6 ) \n",
    "else:\n",
    "    if switch == \"mobilenet\":\n",
    "        md = keras.applications.MobileNet(input_shape = IMAGE_SIZE, weights = \"imagenet\", include_top = False)\n",
    "    elif switch == \"mobilenetv2\":\n",
    "        md = keras.applications.MobileNetV2(input_shape = IMAGE_SIZE, weights=None)\n",
    "    elif switch == \"ResNet50\":\n",
    "        md = keras.applications.ResNet50(input_shape = IMAGE_SIZE, weights=None)\n",
    "    x = GlobalAvgPool2D(name='global_avg')(md.output)\n",
    "    prediction = Dense(6, activation='softmax')(x)\n",
    "    model = Model(inputs=md.input, outputs=prediction)\n",
    "model.summary()"
   ]
  },
  {
   "cell_type": "code",
   "execution_count": 6,
   "metadata": {
    "colab": {
     "base_uri": "https://localhost:8080/"
    },
    "id": "_N1DZBaPddvS",
    "outputId": "10ab20b5-d857-4f6c-c8ed-3bda15fc8fbd"
   },
   "outputs": [
    {
     "name": "stdout",
     "output_type": "stream",
     "text": [
      "Epoch 1/80\n",
      "220/220 [==============================] - 54s 228ms/step - loss: 0.5193 - accuracy: 0.8414 - val_loss: 0.3196 - val_accuracy: 0.9027\n",
      "Epoch 2/80\n",
      "220/220 [==============================] - 49s 220ms/step - loss: 0.1779 - accuracy: 0.9385 - val_loss: 0.6618 - val_accuracy: 0.8050\n",
      "Epoch 3/80\n",
      "220/220 [==============================] - 49s 223ms/step - loss: 0.1374 - accuracy: 0.9527 - val_loss: 0.3095 - val_accuracy: 0.9023\n",
      "Epoch 4/80\n",
      "220/220 [==============================] - 48s 218ms/step - loss: 0.1152 - accuracy: 0.9598 - val_loss: 0.4395 - val_accuracy: 0.8480\n",
      "Epoch 5/80\n",
      "220/220 [==============================] - 49s 222ms/step - loss: 0.0930 - accuracy: 0.9681 - val_loss: 0.4523 - val_accuracy: 0.8730\n",
      "Epoch 6/80\n",
      "220/220 [==============================] - 49s 221ms/step - loss: 0.0872 - accuracy: 0.9701 - val_loss: 0.3885 - val_accuracy: 0.8863\n",
      "Epoch 7/80\n",
      "220/220 [==============================] - 49s 222ms/step - loss: 0.0748 - accuracy: 0.9758 - val_loss: 0.4670 - val_accuracy: 0.8827\n",
      "Epoch 8/80\n",
      "220/220 [==============================] - 49s 222ms/step - loss: 0.0673 - accuracy: 0.9783 - val_loss: 0.4844 - val_accuracy: 0.8607\n",
      "Epoch 9/80\n",
      "220/220 [==============================] - 49s 222ms/step - loss: 0.0576 - accuracy: 0.9792 - val_loss: 0.4227 - val_accuracy: 0.8940\n",
      "Epoch 10/80\n",
      "220/220 [==============================] - 49s 221ms/step - loss: 0.0685 - accuracy: 0.9773 - val_loss: 0.3746 - val_accuracy: 0.8957\n",
      "Epoch 11/80\n",
      "220/220 [==============================] - 49s 221ms/step - loss: 0.0414 - accuracy: 0.9869 - val_loss: 0.3612 - val_accuracy: 0.9063\n",
      "Epoch 12/80\n",
      "220/220 [==============================] - 48s 220ms/step - loss: 0.0485 - accuracy: 0.9831 - val_loss: 0.5251 - val_accuracy: 0.8830\n",
      "Epoch 13/80\n",
      "220/220 [==============================] - 49s 223ms/step - loss: 0.0487 - accuracy: 0.9829 - val_loss: 0.4052 - val_accuracy: 0.8997\n",
      "Epoch 14/80\n",
      "220/220 [==============================] - 49s 223ms/step - loss: 0.0284 - accuracy: 0.9908 - val_loss: 0.4907 - val_accuracy: 0.8920\n",
      "Epoch 15/80\n",
      "220/220 [==============================] - 49s 222ms/step - loss: 0.0391 - accuracy: 0.9875 - val_loss: 0.4570 - val_accuracy: 0.8910\n",
      "Epoch 16/80\n",
      "220/220 [==============================] - 49s 222ms/step - loss: 0.0342 - accuracy: 0.9887 - val_loss: 0.4878 - val_accuracy: 0.8870\n",
      "Epoch 17/80\n",
      "220/220 [==============================] - 49s 222ms/step - loss: 0.0334 - accuracy: 0.9902 - val_loss: 0.9503 - val_accuracy: 0.8110\n",
      "Epoch 18/80\n",
      "220/220 [==============================] - 49s 223ms/step - loss: 0.0450 - accuracy: 0.9856 - val_loss: 0.9496 - val_accuracy: 0.8010\n",
      "Epoch 19/80\n",
      "220/220 [==============================] - 49s 223ms/step - loss: 0.0255 - accuracy: 0.9930 - val_loss: 0.4327 - val_accuracy: 0.9090\n",
      "Epoch 20/80\n",
      "220/220 [==============================] - 49s 223ms/step - loss: 0.0352 - accuracy: 0.9888 - val_loss: 0.6396 - val_accuracy: 0.8627\n",
      "Epoch 21/80\n",
      "220/220 [==============================] - 49s 221ms/step - loss: 0.0418 - accuracy: 0.9855 - val_loss: 0.4379 - val_accuracy: 0.9150\n",
      "Epoch 22/80\n",
      "220/220 [==============================] - 49s 223ms/step - loss: 0.0194 - accuracy: 0.9934 - val_loss: 0.4561 - val_accuracy: 0.9080\n",
      "Epoch 23/80\n",
      "220/220 [==============================] - 49s 223ms/step - loss: 0.0293 - accuracy: 0.9900 - val_loss: 0.5377 - val_accuracy: 0.8937\n",
      "Epoch 24/80\n",
      "220/220 [==============================] - 49s 223ms/step - loss: 0.0268 - accuracy: 0.9907 - val_loss: 0.5279 - val_accuracy: 0.8937\n",
      "Epoch 25/80\n",
      "220/220 [==============================] - 49s 224ms/step - loss: 0.0289 - accuracy: 0.9889 - val_loss: 0.6483 - val_accuracy: 0.8597\n",
      "Epoch 26/80\n",
      "220/220 [==============================] - 49s 224ms/step - loss: 0.0312 - accuracy: 0.9897 - val_loss: 0.4649 - val_accuracy: 0.9037\n",
      "Epoch 27/80\n",
      "220/220 [==============================] - 49s 222ms/step - loss: 0.0185 - accuracy: 0.9937 - val_loss: 0.4999 - val_accuracy: 0.8993\n",
      "Epoch 28/80\n",
      "220/220 [==============================] - 49s 223ms/step - loss: 0.0250 - accuracy: 0.9924 - val_loss: 0.7893 - val_accuracy: 0.8453\n",
      "Epoch 29/80\n",
      "220/220 [==============================] - 49s 222ms/step - loss: 0.0370 - accuracy: 0.9869 - val_loss: 0.4188 - val_accuracy: 0.9090\n",
      "Epoch 30/80\n",
      "220/220 [==============================] - 49s 223ms/step - loss: 0.0211 - accuracy: 0.9936 - val_loss: 0.5536 - val_accuracy: 0.9010\n",
      "Epoch 31/80\n",
      "220/220 [==============================] - 49s 223ms/step - loss: 0.0150 - accuracy: 0.9948 - val_loss: 0.6737 - val_accuracy: 0.8800\n",
      "execution time:  1522.3255307674408\n"
     ]
    }
   ],
   "source": [
    "optimizer = Adam(learning_rate = 1e-3)\n",
    "model.compile(\n",
    "    loss='categorical_crossentropy',\n",
    "    optimizer= optimizer,\n",
    "    metrics=['accuracy']\n",
    ")\n",
    "stop_callback = EarlyStopping(monitor='val_accuracy', patience=10, restore_best_weights=True)\n",
    "reduce_lr = ReduceLROnPlateau(monitor='val_loss',factor=0.1,patience = 4, verbose=1, min_lr = 1e-6)\n",
    "t1 = time()\n",
    "history = model.fit(train_batches, \n",
    "                    validation_data = valid_batches, \n",
    "                    epochs= EPOCHS, \n",
    "                    steps_per_epoch=len(train_batches), \n",
    "                    validation_steps=len(valid_batches), \n",
    "                    callbacks = [stop_callback],\n",
    "                    shuffle = True)\n",
    "t2 = time()\n",
    "print(\"execution time: \", t2 - t1)\n",
    "model.save_weights('./model/mobile_imagenetweights.h5')"
   ]
  },
  {
   "cell_type": "markdown",
   "metadata": {},
   "source": [
    "# Result"
   ]
  },
  {
   "cell_type": "code",
   "execution_count": 7,
   "metadata": {},
   "outputs": [
    {
     "name": "stdout",
     "output_type": "stream",
     "text": [
      "47/47 [==============================] - 3s 63ms/step - loss: 0.4379 - accuracy: 0.9150\n",
      "Test Data Accuracy =  0.9150000214576721\n"
     ]
    }
   ],
   "source": [
    "scoreSeg = model.evaluate(valid_batches)\n",
    "print(\"Test Data Accuracy = \",scoreSeg[1])"
   ]
  },
  {
   "cell_type": "code",
   "execution_count": 8,
   "metadata": {},
   "outputs": [
    {
     "name": "stdout",
     "output_type": "stream",
     "text": [
      "47/47 [==============================] - 3s 63ms/step\n",
      "              precision    recall  f1-score   support\n",
      "\n",
      "   buildings       0.95      0.88      0.91       437\n",
      "      forest       0.99      0.97      0.98       474\n",
      "     glacier       0.87      0.87      0.87       553\n",
      "    mountain       0.90      0.84      0.87       525\n",
      "         sea       0.92      0.95      0.93       510\n",
      "      street       0.88      0.98      0.93       501\n",
      "\n",
      "    accuracy                           0.92      3000\n",
      "   macro avg       0.92      0.92      0.92      3000\n",
      "weighted avg       0.92      0.92      0.91      3000\n",
      "\n"
     ]
    }
   ],
   "source": [
    "from sklearn.metrics import classification_report\n",
    "test_labels = valid_batches.classes \n",
    "predictions = model.predict(valid_batches, verbose=1)\n",
    "y_pred = np.argmax(predictions, axis=-1)\n",
    "print(classification_report(test_labels, y_pred, target_names = valid_batches.class_indices))"
   ]
  }
 ],
 "metadata": {
  "accelerator": "GPU",
  "colab": {
   "collapsed_sections": [],
   "name": "practice_mobilenet_2",
   "provenance": []
  },
  "kernelspec": {
   "display_name": "Python 3",
   "language": "python",
   "name": "python3"
  },
  "language_info": {
   "codemirror_mode": {
    "name": "ipython",
    "version": 3
   },
   "file_extension": ".py",
   "mimetype": "text/x-python",
   "name": "python",
   "nbconvert_exporter": "python",
   "pygments_lexer": "ipython3",
   "version": "3.7.10"
  }
 },
 "nbformat": 4,
 "nbformat_minor": 1
}
